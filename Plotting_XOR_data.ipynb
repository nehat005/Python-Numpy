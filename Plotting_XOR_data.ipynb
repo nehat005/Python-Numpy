{
  "nbformat": 4,
  "nbformat_minor": 0,
  "metadata": {
    "colab": {
      "name": "Plotting_XOR_data.ipynb",
      "provenance": [],
      "authorship_tag": "ABX9TyO+TFM49ZoaWil/HVnQUpiJ",
      "include_colab_link": true
    },
    "kernelspec": {
      "name": "python3",
      "display_name": "Python 3"
    }
  },
  "cells": [
    {
      "cell_type": "markdown",
      "metadata": {
        "id": "view-in-github",
        "colab_type": "text"
      },
      "source": [
        "<a href=\"https://colab.research.google.com/github/nehat005/Python-Numpy/blob/master/Plotting_XOR_data.ipynb\" target=\"_parent\"><img src=\"https://colab.research.google.com/assets/colab-badge.svg\" alt=\"Open In Colab\"/></a>"
      ]
    },
    {
      "cell_type": "code",
      "metadata": {
        "id": "kM1NNwS6BQG-"
      },
      "source": [
        "import numpy as np\n",
        "import matplotlib.pyplot as plt"
      ],
      "execution_count": 1,
      "outputs": []
    },
    {
      "cell_type": "code",
      "metadata": {
        "id": "D53NaP7aBb3a"
      },
      "source": [
        "np.random.seed(0)\n",
        "X1=np.random.rand(100)\n",
        "np.random.seed(1)\n",
        "X2=np.random.rand(100)\n",
        "Y=[]\n",
        "c=[]\n",
        "for i in range(0,100):\n",
        "  \n",
        "    if ((X1[i] <0.5) and (X2[i]<0.5)):\n",
        "      Y.append(0)\n",
        "      c.append('red')\n",
        "    elif ((X1[i] >0.5) and (X2[i]>0.5)):\n",
        "      Y.append(0)\n",
        "      c.append('red')\n",
        "    else:\n",
        "      Y.append(1)\n",
        "      c.append('blue')\n",
        "\n",
        "# print(c[0:])\n",
        "# data=np.empty(shape=2)\n",
        "data=np.array(list(zip(X1,X2)))\n"
      ],
      "execution_count": 131,
      "outputs": []
    },
    {
      "cell_type": "code",
      "metadata": {
        "id": "8hKH_TlMHf8Z",
        "outputId": "f50a9cdb-cd69-4b5b-a8e6-cefc90c8d5c5",
        "colab": {
          "base_uri": "https://localhost:8080/",
          "height": 295
        }
      },
      "source": [
        "for x,y, color in zip(data[:,0],data[:,1],c[0:]):\n",
        "  plt.scatter(x,y,color=color)\n",
        "  plt.title('XOR for uniformly distributed data')\n",
        "  plt.xlabel('X1')\n",
        "  plt.ylabel('X2')\n",
        "  plt.legend(labels=(('Y=1'),('Y=0')))"
      ],
      "execution_count": 132,
      "outputs": [
        {
          "output_type": "display_data",
          "data": {
            "image/png": "[encoded data removed]",
            "text/plain": [
              "<Figure size 432x288 with 1 Axes>"
            ]
          },
          "metadata": {
            "tags": [],
            "needs_background": "light"
          }
        }
      ]
    }
  ]
}