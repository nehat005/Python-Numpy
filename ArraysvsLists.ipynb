{
  "nbformat": 4,
  "nbformat_minor": 0,
  "metadata": {
    "colab": {
      "name": "ArraysvsLists.ipynb",
      "provenance": [],
      "collapsed_sections": [],
      "authorship_tag": "ABX9TyPL92DjbZooRsyKJ8br2y2Q",
      "include_colab_link": true
    },
    "kernelspec": {
      "name": "python3",
      "display_name": "Python 3"
    }
  },
  "cells": [
    {
      "cell_type": "markdown",
      "metadata": {
        "id": "view-in-github",
        "colab_type": "text"
      },
      "source": [
        "<a href=\"https://colab.research.google.com/github/nehat005/Python-Numpy/blob/master/ArraysvsLists.ipynb\" target=\"_parent\"><img src=\"https://colab.research.google.com/assets/colab-badge.svg\" alt=\"Open In Colab\"/></a>"
      ]
    },
    {
      "cell_type": "code",
      "metadata": {
        "id": "6MiNGvejLXWR",
        "colab_type": "code",
        "colab": {}
      },
      "source": [
        "import numpy as np"
      ],
      "execution_count": null,
      "outputs": []
    },
    {
      "cell_type": "code",
      "metadata": {
        "id": "tfCsspCuNDb4",
        "colab_type": "code",
        "colab": {}
      },
      "source": [
        "\n",
        "L=[1,2,3]\n",
        "A=np.array([1,2,3,4])\n"
      ],
      "execution_count": 55,
      "outputs": []
    },
    {
      "cell_type": "code",
      "metadata": {
        "id": "4enS_vP6NQ1N",
        "colab_type": "code",
        "colab": {
          "base_uri": "https://localhost:8080/",
          "height": 69
        },
        "outputId": "a2fe27a8-51e9-4610-b1cb-8db67ae8ffc5"
      },
      "source": [
        "#Adding elements to Lists:\n",
        "#1st method :\n",
        "Lap2=L.append(4) \n",
        "print(Lap2)\n",
        "\n",
        "#2nd method\n",
        "L2=L+[5,6] \n",
        "print(L, L2)\n",
        "\n",
        "#3rd method\n",
        "print(2*L)  #cant do L*L for concatenation"
      ],
      "execution_count": 56,
      "outputs": [
        {
          "output_type": "stream",
          "text": [
            "None\n",
            "[1, 2, 3, 4] [1, 2, 3, 4, 5, 6]\n",
            "[1, 2, 3, 4, 1, 2, 3, 4]\n"
          ],
          "name": "stdout"
        }
      ]
    },
    {
      "cell_type": "code",
      "metadata": {
        "id": "CxV9hc9AOQhw",
        "colab_type": "code",
        "colab": {
          "base_uri": "https://localhost:8080/",
          "height": 52
        },
        "outputId": "e0b0c406-3345-4546-c058-c5c9107039e5"
      },
      "source": [
        "#Adding elements to Arrays:\n",
        "\n",
        "#1st method: Convert to List, add elements to the list and convert back to numpy array\n",
        "AL=A.tolist()\n",
        "AL=AL+[5,6]\n",
        "A3=np.array(AL)\n",
        "print(A3)\n",
        "print(type(A3))"
      ],
      "execution_count": 40,
      "outputs": [
        {
          "output_type": "stream",
          "text": [
            "[1 2 3 4 5 6]\n",
            "<class 'numpy.ndarray'>\n"
          ],
          "name": "stdout"
        }
      ]
    },
    {
      "cell_type": "code",
      "metadata": {
        "id": "Tyn8h94XYXw-",
        "colab_type": "code",
        "colab": {
          "base_uri": "https://localhost:8080/",
          "height": 104
        },
        "outputId": "e24ce5ed-b17e-4ace-a993-8f1cfbe101a0"
      },
      "source": [
        "#Broadcasting in NUMPY: 1-element array is added to n-elements array :\n",
        "\n",
        "#In 1-dim array such as: \n",
        "#A=np.array([1,2,3,4])\n",
        "A2=A+np.array([4])\n",
        "print(\"A2=\",A2)\n",
        "print(\"\\n\")\n",
        "\n",
        "#In n-dim array:\n",
        "A4=np.array([[1,2,3],[4,5,6]])\n",
        "A4=A4 + np.array([1,2,3])\n",
        "print(\"A4=\",A4)"
      ],
      "execution_count": 51,
      "outputs": [
        {
          "output_type": "stream",
          "text": [
            "A2= [5 6 7 8]\n",
            "\n",
            "\n",
            "A4= [[2 4 6]\n",
            " [5 7 9]]\n"
          ],
          "name": "stdout"
        }
      ]
    },
    {
      "cell_type": "code",
      "metadata": {
        "id": "wI9GbIPEZw5D",
        "colab_type": "code",
        "colab": {
          "base_uri": "https://localhost:8080/",
          "height": 52
        },
        "outputId": "424edca5-2f71-41cd-d396-57493417f411"
      },
      "source": [
        "#Multiplication in Np:\n",
        "\n",
        "A=2*A\n",
        "print(A)\n",
        "\n",
        "#Addition/Multiplication/squares/sqrt/division in Lists:\n",
        "L2=[]\n",
        "for e in L:\n",
        "  L2.append(e*2)\n",
        "\n",
        "L2\n",
        "\n",
        "#Using List comprehension:\n",
        "L_2=[e+3 for e in L]\n",
        "print(L_2)"
      ],
      "execution_count": 58,
      "outputs": [
        {
          "output_type": "stream",
          "text": [
            "[ 4  8 12 16]\n",
            "[4, 5, 6, 7]\n"
          ],
          "name": "stdout"
        }
      ]
    }
  ]
}