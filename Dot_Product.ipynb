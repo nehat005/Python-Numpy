{
  "nbformat": 4,
  "nbformat_minor": 0,
  "metadata": {
    "colab": {
      "name": "Dot_Product.ipynb",
      "provenance": [],
      "collapsed_sections": [],
      "authorship_tag": "ABX9TyNQz+njqBuMBXTeniHVUvnA",
      "include_colab_link": true
    },
    "kernelspec": {
      "name": "python3",
      "display_name": "Python 3"
    }
  },
  "cells": [
    {
      "cell_type": "markdown",
      "metadata": {
        "id": "view-in-github",
        "colab_type": "text"
      },
      "source": [
        "<a href=\"https://colab.research.google.com/github/nehat005/Python-Numpy/blob/master/Dot_Product.ipynb\" target=\"_parent\"><img src=\"https://colab.research.google.com/assets/colab-badge.svg\" alt=\"Open In Colab\"/></a>"
      ]
    },
    {
      "cell_type": "markdown",
      "metadata": {
        "id": "H4gfJ1UBqoWs",
        "colab_type": "text"
      },
      "source": [
        "DOT PRODUCT / INNER PRODUCT:   \n",
        "$a.b= a^T b = \\sum_{d=1}^{D}{a_d b_d}$"
      ]
    },
    {
      "cell_type": "code",
      "metadata": {
        "id": "-kvJTj2Dr4I2",
        "colab_type": "code",
        "colab": {}
      },
      "source": [
        "import numpy as np"
      ],
      "execution_count": 2,
      "outputs": []
    },
    {
      "cell_type": "code",
      "metadata": {
        "id": "ihK8rGi5rP5q",
        "colab_type": "code",
        "colab": {
          "base_uri": "https://localhost:8080/",
          "height": 34
        },
        "outputId": "6d8a6b4f-5a39-463a-86e0-0db4f068ecd5"
      },
      "source": [
        "#1st method:\n",
        "\n",
        "a=np.array([1,2])\n",
        "b=np.array([3,4])\n",
        "dot=0\n",
        "for e,f in zip(a,b):\n",
        "  dot += e*f \n",
        "\n",
        "print(dot)"
      ],
      "execution_count": 3,
      "outputs": [
        {
          "output_type": "stream",
          "text": [
            "11\n"
          ],
          "name": "stdout"
        }
      ]
    },
    {
      "cell_type": "code",
      "metadata": {
        "id": "ssGGKywor7jf",
        "colab_type": "code",
        "colab": {
          "base_uri": "https://localhost:8080/",
          "height": 34
        },
        "outputId": "db9001b8-68d8-4bfa-ae0f-a884c53286dd"
      },
      "source": [
        "#2nd method: Indexing\n",
        "\n",
        "dot=0\n",
        "for i in range(len(a)):\n",
        "  dot+= a[i]*b[i]\n",
        "\n",
        "print(dot)\n"
      ],
      "execution_count": 4,
      "outputs": [
        {
          "output_type": "stream",
          "text": [
            "11\n"
          ],
          "name": "stdout"
        }
      ]
    },
    {
      "cell_type": "code",
      "metadata": {
        "id": "pYFE2aJnsOyZ",
        "colab_type": "code",
        "colab": {
          "base_uri": "https://localhost:8080/",
          "height": 69
        },
        "outputId": "f8e08468-8f86-449b-9a3d-3557facd14e3"
      },
      "source": [
        "x=a*b  #element-wise multiplication\n",
        "y=0\n",
        "for e in x:\n",
        "  y+=e\n",
        "print(y)\n",
        "\n",
        "#3rd method: using numpy to avoid for loop as above:\n",
        "#a)\n",
        "print(np.sum(a*b)) \n",
        "\n",
        "#b)\n",
        "np.dot(a,b)"
      ],
      "execution_count": 5,
      "outputs": [
        {
          "output_type": "stream",
          "text": [
            "11\n",
            "11\n"
          ],
          "name": "stdout"
        },
        {
          "output_type": "execute_result",
          "data": {
            "text/plain": [
              "11"
            ]
          },
          "metadata": {
            "tags": []
          },
          "execution_count": 5
        }
      ]
    },
    {
      "cell_type": "code",
      "metadata": {
        "id": "PAEvYPjosfLd",
        "colab_type": "code",
        "colab": {
          "base_uri": "https://localhost:8080/",
          "height": 34
        },
        "outputId": "7688ef32-2730-420a-dbdb-e9ce0aea9c71"
      },
      "source": [
        "# In newer version of numpy:\n",
        "\n",
        "dot=a@b\n",
        "print(dot)\n"
      ],
      "execution_count": 6,
      "outputs": [
        {
          "output_type": "stream",
          "text": [
            "11\n"
          ],
          "name": "stdout"
        }
      ]
    },
    {
      "cell_type": "markdown",
      "metadata": {
        "id": "IGRTR3oHtMSH",
        "colab_type": "text"
      },
      "source": [
        "Calculate :\n",
        "\n",
        "\n",
        "$ a^T b = ||a|| ||b|| \\cos (\\theta_{ab})$\n",
        "\n",
        "$ \\cos (\\theta_{ab}) = \\frac{a^T b}{||a|| ||b||} $\n",
        "\n",
        "$ ||a|| = \\sqrt{ \\sum_{d=1}^{D} {{a_d}^2}}$"
      ]
    },
    {
      "cell_type": "code",
      "metadata": {
        "id": "yVPs44qDuDya",
        "colab_type": "code",
        "colab": {
          "base_uri": "https://localhost:8080/",
          "height": 69
        },
        "outputId": "16537619-222a-4ee3-bd82-cbfff09146f7"
      },
      "source": [
        "norm_a=np.sqrt(np.sum(a*a))\n",
        "print(norm_a)\n",
        "\n",
        "norm_b=np.linalg.norm(b)\n",
        "print(norm_b)\n",
        "\n",
        "cos_angle=np.divide(np.dot(a,b),(norm_a*norm_b))\n",
        "angle=np.arccos(cos_angle)\n",
        "print(\"Angle in radians:\",angle)"
      ],
      "execution_count": 15,
      "outputs": [
        {
          "output_type": "stream",
          "text": [
            "2.23606797749979\n",
            "5.0\n",
            "Angle in radians: 0.17985349979247847\n"
          ],
          "name": "stdout"
        }
      ]
    },
    {
      "cell_type": "code",
      "metadata": {
        "id": "UfutP6KZWOKq",
        "colab_type": "code",
        "colab": {}
      },
      "source": [
        ""
      ],
      "execution_count": null,
      "outputs": []
    }
  ]
}